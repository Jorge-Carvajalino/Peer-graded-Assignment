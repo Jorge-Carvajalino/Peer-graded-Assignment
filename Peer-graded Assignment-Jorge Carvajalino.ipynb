{
 "cells": [
  {
   "cell_type": "markdown",
   "id": "573ff4b5-570d-495e-96e6-8d1845edf97b",
   "metadata": {},
   "source": [
    "# My Jupyter Notebook on IBM Watson Studio"
   ]
  },
  {
   "cell_type": "markdown",
   "id": "3e4e21e3-72c8-4631-8327-ab4174976ac1",
   "metadata": {},
   "source": [
    "**Jorge Eduardo Carvajalino Casas**\n",
    "\n",
    "Student of Bussines Administration"
   ]
  },
  {
   "cell_type": "markdown",
   "id": "91305fd3-44ab-417e-80c3-9b5d433c9b40",
   "metadata": {},
   "source": [
    "I am interested in data science because I would like to be a relevant person in my future job, and that's going to be possible using all the potential of the data that I would get after this course."
   ]
  },
  {
   "cell_type": "markdown",
   "id": "5566e9c2-cc24-4f4d-98e6-0a425514f642",
   "metadata": {},
   "source": [
    "### The following code is the solution of a Future Value exercise "
   ]
  },
  {
   "cell_type": "code",
   "execution_count": 7,
   "id": "c17d6675-8c0f-4aed-8727-4c4f5a59d318",
   "metadata": {},
   "outputs": [
    {
     "data": {
      "text/plain": [
       "11000.76736900668"
      ]
     },
     "execution_count": 7,
     "metadata": {},
     "output_type": "execute_result"
    }
   ],
   "source": [
    "10000*((1+0.00798)**12)"
   ]
  },
  {
   "cell_type": "markdown",
   "id": "74c0b160-95f3-44db-9b56-3f669972a4aa",
   "metadata": {},
   "source": [
    "| A | B | C | D |\n",
    "| ----- | ----- | ----- | ----- |\n",
    "| 1 | 2 | 3 | 4 |\n",
    "| 5 | 6 | 7 | 8 |\n",
    "| 9 | 10 | 11 | 12 |\n",
    "\n",
    "---\n",
    "\n",
    "* Code\n",
    "\n",
    "+ Markdown\n",
    "\n",
    "- Raw\n",
    "\n",
    "---\n",
    "\n",
    "![alt text](https://pbs.twimg.com/profile_images/1493920231005302784/dd4UB7E1_400x400.jpg \"Logo IBM\")\n"
   ]
  },
  {
   "cell_type": "code",
   "execution_count": null,
   "id": "6da6717b-8621-4728-a757-17a0ea61da2a",
   "metadata": {},
   "outputs": [],
   "source": []
  }
 ],
 "metadata": {
  "kernelspec": {
   "display_name": "Python",
   "language": "python",
   "name": "conda-env-python-py"
  },
  "language_info": {
   "codemirror_mode": {
    "name": "ipython",
    "version": 3
   },
   "file_extension": ".py",
   "mimetype": "text/x-python",
   "name": "python",
   "nbconvert_exporter": "python",
   "pygments_lexer": "ipython3",
   "version": "3.7.12"
  }
 },
 "nbformat": 4,
 "nbformat_minor": 5
}
